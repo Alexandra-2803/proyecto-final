{
 "cells": [
  {
   "cell_type": "markdown",
   "id": "a5d0a585-40db-465a-be23-44ac916ab8b3",
   "metadata": {},
   "source": [
    "### <center> DATOS METEOROLOGICOS ACTUALES EN PERU<center>\n",
    "#### Introducción:\n",
    "En la era de la información, la disponibilidad de datos precisos y actualizados es crucial para la toma de decisiones en diversos ámbitos. El clima es uno de los factores más influyentes en la vida diaria, afectando desde actividades agrícolas hasta la planificación urbana y turística. Perú, con su diversidad geográfica y climática, presenta un desafío particular en la obtención de datos meteorológicos fiables y en tiempo real.\n",
    "Este proyecto tiene como objetivo principal la recopilación, análisis y presentación de datos meteorológicos actuales de diferentes regiones de Perú. Utilizando tecnologías modernas como APIs y técnicas de scraping web, se extraerán datos relevantes sobre temperatura, humedad, velocidad del viento, precipitación y condiciones climáticas generales. Estos datos se integrarán y analizarán para proporcionar una visión completa y accesible del clima actual en el país\n",
    "\n",
    "#### Objetivos del proyecto:\n",
    "- Utilizar OpenWeatherMap API para obtener datos climatológicos actuales, incluyendo temperaturas, humedad, etc.\n",
    "- Implementar técnicas de web scraping para obtener datos adicionales, como índices UV de un sitio web relevante\n",
    "- Integrar los datos recolectados mediante API y web scraping para ofrecer una visión más completa del clima actual.\n",
    "\n",
    "#### Producto final:\n",
    "Desarrollar un script que muestre de manera integrada los datos climatológicos actuales y complementarios obtenidos a través de la API y web scraping.\r\n",
    "\r\n",
    "\n"
   ]
  }
 ],
 "metadata": {
  "kernelspec": {
   "display_name": "Python 3 (ipykernel)",
   "language": "python",
   "name": "python3"
  },
  "language_info": {
   "codemirror_mode": {
    "name": "ipython",
    "version": 3
   },
   "file_extension": ".py",
   "mimetype": "text/x-python",
   "name": "python",
   "nbconvert_exporter": "python",
   "pygments_lexer": "ipython3",
   "version": "3.11.7"
  }
 },
 "nbformat": 4,
 "nbformat_minor": 5
}
