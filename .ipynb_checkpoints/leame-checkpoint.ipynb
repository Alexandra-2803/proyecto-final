{
 "cells": [
  {
   "cell_type": "markdown",
   "id": "a5d0a585-40db-465a-be23-44ac916ab8b3",
   "metadata": {},
   "source": [
    "<center><h2><span style=\"color:Darkred\"> DATOS METEOROLÓGICOS ACTUALES EN PERÚ</span></h2></center>\n",
    "\n",
    "#### <span style=\"color:green\">**Introduccion:** </span>\n",
    "\n",
    "En la era de la información, la disponibilidad de datos precisos y actualizados es crucial para la toma de decisiones en diversos ámbitos. El clima es uno de los factores más influyentes en la vida diaria, afectando desde actividades agrícolas hasta la planificación urbana y turística. Perú, con su diversidad geográfica y climática, presenta un desafío particular en la obtención de datos meteorológicos fiables y en tiempo real.\n",
    "\n",
    "Este proyecto tiene como objetivo principal la recopilación, análisis y presentación de datos meteorológicos actuales de diferentes regiones de Perú. Utilizando tecnologías modernas como APIs y técnicas de scraping web, se extraerán datos relevantes sobre temperatura, humedad, velocidad del viento, precipitación y condiciones climáticas generales. Estos datos se integrarán y analizarán para proporcionar una visión completa y accesible del clima actual en el país\n",
    "#### <span style=\"color:green\">**Api's y Web's a utilizar** </span>\n",
    "- OpenWeatherMap Api: La API de OpenWeather proporciona una amplia variedad de datos meteorológicos.\n",
    "- Página Web Weather.com: También ofrece una gran cantidad de datos meteorológicos.\n",
    "#### <span style=\"color:orange\">**Objetivos del Proyecto** </span>\n",
    "##### Objetivo General\n",
    "Desarrollar un sistema de recopilación y presentación de datos meteorológicos en tiempo real para diferentes regiones de Perú, utilizando APIs y técnicas de web scraping.\n",
    "##### Objetivos Específicos\n",
    "1. **Recopilacion de Datos Climáticos:** Utilizar la API de OpenWeatherMap para obtener datos climáticos actuales, incluyendo temperatura, humedad, velocidad del viento, precipitación y condiciones climáticas generales para diversas regiones de Perú\n",
    "2. **Implementar Técnicas de Web Scraping:** Desarrollar scripts de scraping para obtener datos adicionales, como índices UV, calidad del aire y otros parámetros relevantes desde la página web de Weather.com y otras fuentes confiables.\n",
    "3. **Integrar Datos de Múltiples Fuentes:** Combinar los datos obtenidos a través de la API y el web scraping en una base de datos centralizada para facilitar el análisis y la presentación de información.\n",
    "4. **Desarrollar una Herramienta de Visualización:** Crear una interfaz de usuario intuitiva y accesible que permita visualizar los datos meteorológicos actuales y complementarios de manera integrada.\n",
    "   \n",
    "#### <span style=\"color:red\">**Producto final:** </span>\n",
    "Desarrollar un conjunto de scripts que utilizan la API de OpenWeatherMap y técnicas de web scraping para recolectar datos meteorológicos actualizados.\n",
    "\n",
    "<p style=\"text-align:center;\">\r\n",
    "  <img src=https://img.freepik.com/vector-gratis/tiempo-extendido-prevision-papel-informatico-decorativo-widgets-nubes-sol-lluvia-nieve-iconos-ilustracion-vectorial_1284-2182.jpg?w=740&t=st=1719975386~exp=1719975986~hmac=a6de54438c81f35eab592a93594ce156fd23251a987637ed50d593be4c49417a\" alt=\"clima\" style=\"width: 500px; height: auto;\">\r\n",
    "</p>\r\n"
   ]
  },
  {
   "cell_type": "code",
   "execution_count": null,
   "id": "34fbf801-bbed-43b5-9262-381b30764688",
   "metadata": {},
   "outputs": [],
   "source": []
  }
 ],
 "metadata": {
  "kernelspec": {
   "display_name": "Python 3 (ipykernel)",
   "language": "python",
   "name": "python3"
  },
  "language_info": {
   "codemirror_mode": {
    "name": "ipython",
    "version": 3
   },
   "file_extension": ".py",
   "mimetype": "text/x-python",
   "name": "python",
   "nbconvert_exporter": "python",
   "pygments_lexer": "ipython3",
   "version": "3.11.7"
  }
 },
 "nbformat": 4,
 "nbformat_minor": 5
}
