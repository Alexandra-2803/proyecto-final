{
 "cells": [
  {
   "cell_type": "markdown",
   "id": "5eb49e14-fdb1-4b9c-90c4-3970c31e4859",
   "metadata": {},
   "source": [
    "#### Información de la API de OpenWeather\r\n",
    "\r\n",
    "#### Coordenadas\r\n",
    "- `coord.lon`: Longitud de la ubicación\r\n",
    "- `coord.lat`: Latitud de la ubicaci##ón \n",
    "\r\n",
    "## Clima\r\n",
    "- `weather` (más información: Códigos de condiciones meteorológicas)\r\n",
    "  - `weather.id`: Identificación de las condiciones meteorológicas\r\n",
    "  - `weather.main`: Grupo de parámetros meteorológicos (Lluvia, Nieve, Nubes, etc.)\r\n",
    "  - `weather.description`: Condiciones meteorológicas dentro del grupo. Encuentre más información aquí. Puede obtener la información en su idioma. Obtenga más información\r\n",
    "  - `weather.icon`: Identificación del icono d##el tiempo\r\n",
    "\r\n",
    "## Parámetro interno\r\n",
    "- `base`: Parámet##ro interno\r\n",
    "\r\n",
    "## Principales\r\n",
    "- `main`\r\n",
    "  - `main.temp`: Temperatura. Unidad predeterminada: Kelvin, Métrica: Celsius, Imperial: Fahrenheit\r\n",
    "  - `main.feels_like`: Temperatura. Este parámetro de temperatura refleja la percepción humana del clima. Unidad predeterminada: Kelvin, Métrica: Celsius, Imperial: Fahrenheit\r\n",
    "  - `main.pressure`: Presión atmosférica sobre el nivel del mar, hPa\r\n",
    "  - `main.humidity`: Humedad, %\r\n",
    "  - `main.temp_min`: Temperatura mínima actual. Esta es la temperatura mínima observada actualmente (en grandes megalópolis y áreas urbanas). Puede encontrar más información aquí. Unidad predeterminada: Kelvin, Métrica: Celsius, Imperial: Fahrenheit\r\n",
    "  - `main.temp_max`: Temperatura máxima en este momento. Esta es la temperatura máxima observada actualmente (en grandes megalópolis y áreas urbanas). Puede encontrar más información aquí. Unidad predeterminada: Kelvin, Métrica: Celsius, Imperial: Fahrenheit\r\n",
    "  - `main.sea_level`: Presión atmosférica sobre el nivel del mar, hPa\r\n",
    "  - `main.grnd_level`: Presión atmosférica a nivel del suelo, hPa\r\n",
    "\r\n",
    "## Visibilidad\r\n",
    "- `visibility`: Visibilidad, metros. El valor máximo de visibilidad es de 10 km.\r\n",
    "\r\n",
    "## Viento\r\n",
    "- `wind`\r\n",
    "  - `wind.speed`: Velocidad del viento. Unidad predeterminada: metros/segundo, sistema métrico: metros/segundo, sistema imperial: millas/hora\r\n",
    "  - `wind.deg`: Dirección del viento, grados (meteorológicos)\r\n",
    "  - `wind.gust`: Ráfaga de viento. Unidad predeterminada: metros/segundo, sistema métrico: metros/segundo, sistema imperial: millas/hora\r\n",
    "\r\n",
    "## Nubes\r\n",
    "- `clouds`\r\n",
    "  - `clouds.all`: Nubosidad, %\r\n",
    "\r\n",
    "## Lluvia\r\n",
    "- `rain`\r\n",
    "  - `rain.1h` (donde esté disponible): Volumen de lluvia durante la última hora, mm. Tenga en cuenta que solo están disponibles las unidades de medida en mm para este parámetro\r\n",
    "  - `rain.3h` (donde esté disponible): Volumen de lluvia de las últimas 3 horas, mm. Tenga en cuenta que solo están disponibles los mm como unidades de medida para este parámetro\r\n",
    "\r\n",
    "## Nieve\r\n",
    "- `snow`\r\n",
    "  - `snow.1h` (donde esté disponible): Volumen de nieve durante la última hora, mm. Tenga en cuenta que solo están disponibles las unidades de medida en mm para este parámetro\r\n",
    "  - `snow.3h` (donde esté disponible): Volumen de nieve durante las últimas 3 horas, mm. Tenga en cuenta que solo están disponibles los mm como unidades de medida para este parámetro\r\n",
    "\r\n",
    "## Hora de Cálculo de Datos\r\n",
    "- `dt`: Hora de cálculo de datos, Unix, UTC\r\n",
    "\r\n",
    "## Sistema\r\n",
    "- `sys`\r\n",
    "  - `sys.type`: Parámetro interno\r\n",
    "  - `sys.id`: Parámetro interno\r\n",
    "  - `sys.message`: Parámetro interno\r\n",
    "  - `sys.country`: Código de país (GB, JP, etc.)\r\n",
    "  - `sys.sunrise`: Hora de salida del sol, Unix, UTC\r\n",
    "  - `sys.sunset`: Hora de puesta del sol, Unix, UTC\r\n",
    "\r\n",
    "## Zona Horaria\r\n",
    "- `timezone`: Cambio en segundos desde UTC\r\n",
    "\r\n",
    "## Identificación de la Ciudad\r\n",
    "- `id`: Identificación de la ciudad. Tenga en cuenta que la función de geocodificador incorporada ha quedado obsoleta. Obtenga más información aquí\r\n",
    "- `name`: Nombre de la ciudad. Tenga en cuenta que la función de geocodificador incorporada ha quedado obsoleta. Obtenga más información aquí\r\n",
    "\r\n",
    "## Código\r\n",
    "- `cod`: Parámetro interno\r\n",
    "\n"
   ]
  },
  {
   "cell_type": "code",
   "execution_count": 6,
   "id": "0993b7b8-7d2c-4bc0-be3d-d5ed17d7c3fd",
   "metadata": {},
   "outputs": [
    {
     "name": "stdout",
     "output_type": "stream",
     "text": [
      "{'coord': {'lon': -73.2472, 'lat': -3.7481}, 'weather': [{'id': 803, 'main': 'Clouds', 'description': 'muy nuboso', 'icon': '04n'}], 'base': 'stations', 'main': {'temp': 25.02, 'feels_like': 25.88, 'temp_min': 25.02, 'temp_max': 25.02, 'pressure': 1013, 'humidity': 88, 'sea_level': 1013, 'grnd_level': 1001}, 'visibility': 10000, 'wind': {'speed': 0.51, 'deg': 0}, 'clouds': {'all': 75}, 'dt': 1719714716, 'sys': {'type': 1, 'id': 8694, 'country': 'PE', 'sunrise': 1719658754, 'sunset': 1719701617}, 'timezone': -18000, 'id': 3696183, 'name': 'Iquitos', 'cod': 200}\n"
     ]
    }
   ],
   "source": [
    "#accediendo y extrayendo informacion de la api\n",
    "#tienen que registrarse en https://openweathermap.org/. la pagina les va a generar un api_key cuando se registren \n",
    "import requests\n",
    "import json\n",
    "api_key = '2b2746e5dadb1042f3aa9910e3796792' \n",
    "city= 'Iquitos' #colocar el nombre de la ciudad de la que desees consultar\n",
    "lang='es'\n",
    "url=f'https://api.openweathermap.org/data/2.5/weather?q={city}&appid={api_key}&lang={lang}&units=metric'\n",
    "response = requests.get(url)\n",
    "\n",
    "data = response.json()\n",
    "\n",
    "print(data)\n"
   ]
  }
 ],
 "metadata": {
  "kernelspec": {
   "display_name": "Python 3 (ipykernel)",
   "language": "python",
   "name": "python3"
  },
  "language_info": {
   "codemirror_mode": {
    "name": "ipython",
    "version": 3
   },
   "file_extension": ".py",
   "mimetype": "text/x-python",
   "name": "python",
   "nbconvert_exporter": "python",
   "pygments_lexer": "ipython3",
   "version": "3.11.7"
  }
 },
 "nbformat": 4,
 "nbformat_minor": 5
}
