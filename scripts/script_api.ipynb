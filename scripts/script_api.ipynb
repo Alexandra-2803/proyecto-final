{
 "cells": [
  {
   "cell_type": "code",
   "execution_count": 6,
   "id": "0993b7b8-7d2c-4bc0-be3d-d5ed17d7c3fd",
   "metadata": {},
   "outputs": [
    {
     "name": "stdout",
     "output_type": "stream",
     "text": [
      "{'coord': {'lon': -73.2472, 'lat': -3.7481}, 'weather': [{'id': 803, 'main': 'Clouds', 'description': 'muy nuboso', 'icon': '04n'}], 'base': 'stations', 'main': {'temp': 25.02, 'feels_like': 25.88, 'temp_min': 25.02, 'temp_max': 25.02, 'pressure': 1013, 'humidity': 88, 'sea_level': 1013, 'grnd_level': 1001}, 'visibility': 10000, 'wind': {'speed': 0.51, 'deg': 0}, 'clouds': {'all': 75}, 'dt': 1719714716, 'sys': {'type': 1, 'id': 8694, 'country': 'PE', 'sunrise': 1719658754, 'sunset': 1719701617}, 'timezone': -18000, 'id': 3696183, 'name': 'Iquitos', 'cod': 200}\n"
     ]
    }
   ],
   "source": [
    "#accediendo y extrayendo informacion de la api\n",
    "#tienen que registrarse en https://openweathermap.org/. la pagina les va a generar un api_key cuando se registren \n",
    "import requests\n",
    "import json\n",
    "api_key = '2b2746e5dadb1042f3aa9910e3796792' \n",
    "city= 'Iquitos' #colocar el nombre de la ciudad de la que desees consultar\n",
    "lang='es'\n",
    "url=f'https://api.openweathermap.org/data/2.5/weather?q={city}&appid={api_key}&lang={lang}&units=metric'\n",
    "response = requests.get(url)\n",
    "\n",
    "data = response.json()\n",
    "\n",
    "print(data)\n"
   ]
  }
 ],
 "metadata": {
  "kernelspec": {
   "display_name": "Python 3 (ipykernel)",
   "language": "python",
   "name": "python3"
  },
  "language_info": {
   "codemirror_mode": {
    "name": "ipython",
    "version": 3
   },
   "file_extension": ".py",
   "mimetype": "text/x-python",
   "name": "python",
   "nbconvert_exporter": "python",
   "pygments_lexer": "ipython3",
   "version": "3.11.7"
  }
 },
 "nbformat": 4,
 "nbformat_minor": 5
}
