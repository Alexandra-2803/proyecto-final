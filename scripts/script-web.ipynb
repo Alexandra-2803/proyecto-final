{
 "cells": [
  {
   "cell_type": "code",
   "execution_count": 1,
   "id": "d311d8d4-5cc9-4f43-944a-11644e9caa9e",
   "metadata": {},
   "outputs": [
    {
     "name": "stdout",
     "output_type": "stream",
     "text": [
      "Índice UV encontrado: 0 de 11\n"
     ]
    }
   ],
   "source": [
    "#web scraping\n",
    "import requests\n",
    "from bs4 import BeautifulSoup\n",
    "\n",
    "# Definir la URL y realizar la solicitud HTTP\n",
    "#en la pagina de weather.com tendriamos que especificar la ciudad de donde queremos información para que nos bote el indice uv especifico \n",
    "#en ese instante\n",
    "#en este ejemplo el lugar especifico es la ciudad de 'Iquitos' por lo cual en la pagina de wheather tenemos que indicar que nos encontramos en tal ciudad\n",
    "#y país, luego copiar la url\n",
    "url = 'https://weather.com/es-PE/tiempo/hoy/l/9be520b7b5247b3f0a0dfd2daae6606aa56229b0e789b06463d607e6d6a20f01'\n",
    "response = requests.get(url)\n",
    "soup = BeautifulSoup(response.content, 'html.parser') #Parsear con BeautifulSoup\n",
    "\n",
    "# Buscar el elemento span con el atributo data-testid=\"UVIndexValue\"\n",
    "uv_element = soup.find('span', {'data-testid': 'UVIndexValue'})\n",
    "\n",
    "#Verficación del elemento encontrado\n",
    "if uv_element:\n",
    "    uv_index = uv_element.text.strip() #obetenemos el texto dentro del elemento\n",
    "    print(f\"Índice UV encontrado: {uv_index}\")\n",
    "else:\n",
    "    print(\"Índice UV no encontrado en la página\")\n"
   ]
  }
 ],
 "metadata": {
  "kernelspec": {
   "display_name": "Python 3 (ipykernel)",
   "language": "python",
   "name": "python3"
  },
  "language_info": {
   "codemirror_mode": {
    "name": "ipython",
    "version": 3
   },
   "file_extension": ".py",
   "mimetype": "text/x-python",
   "name": "python",
   "nbconvert_exporter": "python",
   "pygments_lexer": "ipython3",
   "version": "3.11.7"
  }
 },
 "nbformat": 4,
 "nbformat_minor": 5
}
